{
  "nbformat": 4,
  "nbformat_minor": 0,
  "metadata": {
    "colab": {
      "provenance": [],
      "authorship_tag": "ABX9TyMcTOU7UA937VwpLWKtC98u",
      "include_colab_link": true
    },
    "kernelspec": {
      "name": "python3",
      "display_name": "Python 3"
    },
    "language_info": {
      "name": "python"
    }
  },
  "cells": [
    {
      "cell_type": "markdown",
      "metadata": {
        "id": "view-in-github",
        "colab_type": "text"
      },
      "source": [
        "<a href=\"https://colab.research.google.com/github/ZainDataS/Guided_Projects/blob/main/SentEncoding.ipynb\" target=\"_parent\"><img src=\"https://colab.research.google.com/assets/colab-badge.svg\" alt=\"Open In Colab\"/></a>"
      ]
    },
    {
      "cell_type": "code",
      "execution_count": 2,
      "metadata": {
        "colab": {
          "base_uri": "https://localhost:8080/"
        },
        "id": "srXYubB18j7m",
        "outputId": "37f189c0-0561-4512-9697-0d6cff28716b"
      },
      "outputs": [
        {
          "output_type": "stream",
          "name": "stdout",
          "text": [
            "AT NWAD KOOL TO THE TSAE\n"
          ]
        }
      ],
      "source": []
    },
    {
      "cell_type": "code",
      "source": [
        "# Define a function to reverse a word\n",
        "def reverse_word(word):\n",
        "  # If the word length is more than 3, reverse it\n",
        "  if len(word) > 3:\n",
        "    return word[::-1]\n",
        "  # Otherwise, return the word as it is\n",
        "  else:\n",
        "    return word\n",
        "\n",
        "# Define a function to encode a sentence\n",
        "def encode_sentence(sentence):\n",
        "  # Split the sentence into words\n",
        "  words = sentence.split()\n",
        "  # Apply the reverse_word function to each word\n",
        "  encoded_words = [reverse_word(word) for word in words]\n",
        "  # Join the encoded words with spaces\n",
        "  encoded_sentence = \" \".join(encoded_words)\n",
        "  # Return the encoded sentence\n",
        "  return encoded_sentence\n",
        "\n",
        "# Test the encode_sentence function with an example\n",
        "example = \"AT DAWN LOOK TO THE EAST\"\n",
        "result = encode_sentence(example)\n",
        "print(result)"
      ],
      "metadata": {
        "id": "wZsfS-Ne9Qyx"
      },
      "execution_count": null,
      "outputs": []
    }
  ]
}