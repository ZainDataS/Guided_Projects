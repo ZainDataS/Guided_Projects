{
  "nbformat": 4,
  "nbformat_minor": 0,
  "metadata": {
    "kernelspec": {
      "display_name": "Python 3",
      "language": "python",
      "name": "python3"
    },
    "language_info": {
      "codemirror_mode": {
        "name": "ipython",
        "version": 3
      },
      "file_extension": ".py",
      "mimetype": "text/x-python",
      "name": "python",
      "nbconvert_exporter": "python",
      "pygments_lexer": "ipython3",
      "version": "3.7.1"
    },
    "colab": {
      "name": "Guided Project - Intersection of Lists.ipynb",
      "provenance": [],
      "collapsed_sections": [],
      "include_colab_link": true
    }
  },
  "cells": [
    {
      "cell_type": "markdown",
      "metadata": {
        "id": "view-in-github",
        "colab_type": "text"
      },
      "source": [
        "<a href=\"https://colab.research.google.com/github/ZainDataS/Guided_Projects/blob/main/Guided_Project_Intersection_of_Lists.ipynb\" target=\"_parent\"><img src=\"https://colab.research.google.com/assets/colab-badge.svg\" alt=\"Open In Colab\"/></a>"
      ]
    },
    {
      "cell_type": "markdown",
      "metadata": {
        "id": "rtBrwN-Aexbo"
      },
      "source": [
        "Given a list of n lists, write a function which returns the intersection of all the n lists. Each list can have any number of elements.\n",
        "\n",
        "Example 1:\n",
        "\n",
        "```\n",
        "input = [[5, 5, 5, 8, 10], \n",
        "      [5, 5, 7, 8], \n",
        "      [5, 5, 8, 9, 11]]\n",
        "```\n",
        "\n",
        "```\n",
        "output = [5, 5, 8]\n",
        "```\n",
        "\n",
        "Example 2:\n",
        "\n",
        "```\n",
        "input = [[5, 6], \n",
        "      [5, 5, 7, 8], \n",
        "      [5, 5, 8, 9]]\n",
        "```\n",
        "\n",
        "\n",
        "```\n",
        "output = [5]\n",
        "```"
      ]
    },
    {
      "cell_type": "code",
      "metadata": {
        "id": "xs_sJ8omRlrH"
      },
      "source": [
        "input = [[5, 5, 5, 8, 10], \n",
        "      [5, 5, 7, 8], \n",
        "      [5, 5, 8, 9, 11]]"
      ],
      "execution_count": 1,
      "outputs": []
    },
    {
      "cell_type": "code",
      "metadata": {
        "id": "8xr-iIqnzxXP"
      },
      "source": [
        "def findSmallestList(listoflists):\n",
        "  minlenlist =listoflists[0]\n",
        "  minlen = len(listoflists[0])\n",
        "  for list_ in listoflists:\n",
        "    if (len(list_)<minlen):\n",
        "      minlenlist = list_\n",
        "      minlen = len(list_)\n",
        "  return minlenlist\n"
      ],
      "execution_count": 2,
      "outputs": []
    },
    {
      "cell_type": "code",
      "metadata": {
        "id": "QC5JQxoC0-2q"
      },
      "source": [
        "def createFreqDict(list_):\n",
        "  freqDict ={}\n",
        "  for elem in list_:\n",
        "    if (elem in freqDict.keys()):\n",
        "      freqDict[elem] = freqDict[elem]+1\n",
        "    else:\n",
        "       freqDict[elem] = 1\n",
        "  return freqDict\n"
      ],
      "execution_count": 3,
      "outputs": []
    },
    {
      "cell_type": "code",
      "metadata": {
        "colab": {
          "base_uri": "https://localhost:8080/"
        },
        "id": "dgzCToMbRSEG",
        "outputId": "7af014db-b8be-435e-dbff-780f2eb40feb"
      },
      "source": [
        "smallestList = findSmallestList(input)\n",
        "freqOfSmallestList = createFreqDict(smallestList)\n",
        "freqOfSmallestList"
      ],
      "execution_count": 4,
      "outputs": [
        {
          "output_type": "execute_result",
          "data": {
            "text/plain": [
              "{5: 2, 7: 1, 8: 1}"
            ]
          },
          "metadata": {},
          "execution_count": 4
        }
      ]
    },
    {
      "cell_type": "code",
      "metadata": {
        "id": "mYEyLNpwSCgh"
      },
      "source": [
        "def findIntersectingList(listoflists,freqOfSmallestList):\n",
        "  for key,value in freqOfSmallestList.items():\n",
        "    for list_ in listoflists:\n",
        "      if value>list_.count(key):\n",
        "        freqOfSmallestList[key] = list_.count(key)\n",
        "  return freqOfSmallestList"
      ],
      "execution_count": 5,
      "outputs": []
    },
    {
      "cell_type": "code",
      "metadata": {
        "colab": {
          "base_uri": "https://localhost:8080/"
        },
        "id": "u9eQOmLlAu6c",
        "outputId": "3f979869-c5d0-4d4b-e5be-15e892cd692b"
      },
      "source": [
        "finalfreqDict = findIntersectingList(input,freqOfSmallestList)\n",
        "finalfreqDict"
      ],
      "execution_count": 6,
      "outputs": [
        {
          "output_type": "execute_result",
          "data": {
            "text/plain": [
              "{5: 2, 7: 0, 8: 1}"
            ]
          },
          "metadata": {},
          "execution_count": 6
        }
      ]
    },
    {
      "cell_type": "code",
      "metadata": {
        "id": "olcKKWoBAkpQ"
      },
      "source": [
        "def createIntersectingList(finalfreqDict):\n",
        "  IntersectingList = []\n",
        "  for key,value in finalfreqDict.items():\n",
        "    IntersectingList = IntersectingList + [key]*value\n",
        "  return IntersectingList  \n"
      ],
      "execution_count": 7,
      "outputs": []
    },
    {
      "cell_type": "code",
      "metadata": {
        "colab": {
          "base_uri": "https://localhost:8080/"
        },
        "id": "oV0LUKYUBkgc",
        "outputId": "9639ed24-1837-4ebd-a055-752fddfbda71"
      },
      "source": [
        "createIntersectingList(finalfreqDict)"
      ],
      "execution_count": 8,
      "outputs": [
        {
          "output_type": "execute_result",
          "data": {
            "text/plain": [
              "[5, 5, 8]"
            ]
          },
          "metadata": {},
          "execution_count": 8
        }
      ]
    }
  ]
}