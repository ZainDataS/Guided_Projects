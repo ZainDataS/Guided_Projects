{
  "nbformat": 4,
  "nbformat_minor": 0,
  "metadata": {
    "colab": {
      "provenance": [],
      "authorship_tag": "ABX9TyMTd1ACDPWcIsMWdM6E5Ynn",
      "include_colab_link": true
    },
    "kernelspec": {
      "name": "python3",
      "display_name": "Python 3"
    },
    "language_info": {
      "name": "python"
    }
  },
  "cells": [
    {
      "cell_type": "markdown",
      "metadata": {
        "id": "view-in-github",
        "colab_type": "text"
      },
      "source": [
        "<a href=\"https://colab.research.google.com/github/ZainDataS/Guided_Projects/blob/main/Morse_Code_Decoder.ipynb\" target=\"_parent\"><img src=\"https://colab.research.google.com/assets/colab-badge.svg\" alt=\"Open In Colab\"/></a>"
      ]
    },
    {
      "cell_type": "code",
      "execution_count": 31,
      "metadata": {
        "id": "uH-ZJLe2wzTb"
      },
      "outputs": [],
      "source": [
        "engto_morse_dict = {'A':'.-','B':'-...','C':'-.-.','D':'-..','E':'.',\n",
        "         'F':'..-.','G':'--.','H':'....','I':'..','J':'.---',\n",
        "         'K':'-.-','L':'.-..','M':'--','N':'-.','O':'---',\n",
        "         'P':'.--.','Q':'--.-','R':'.-.','S':'...','T':'-',\n",
        "         'U':'..-','V':'...-','W':'.--','X':'-..-','Y':'-.--',\n",
        "         'Z':'--..', '':' ', ' ':'   '}"
      ]
    },
    {
      "cell_type": "code",
      "source": [
        "def decrypt(message):\n",
        "    message += \" \"\n",
        "    decipher = \"\"\n",
        "    citext = \"\"\n",
        "\n",
        "    for letter in message:\n",
        "        if letter != \" \":\n",
        "            i = 0\n",
        "            citext += letter\n",
        "        else:\n",
        "            i += 1\n",
        "\n",
        "            if i == 2:\n",
        "                decipher += \" \"\n",
        "            else:\n",
        "                for key, value in engto_morse_dict.items():\n",
        "                    if citext == value:\n",
        "                        decipher += key\n",
        "\n",
        "                citext = \"\"\n",
        "\n",
        "    return decipher"
      ],
      "metadata": {
        "id": "axCoyzzz7yEg"
      },
      "execution_count": 43,
      "outputs": []
    },
    {
      "cell_type": "code",
      "source": [
        "decrypt('.- -   -.. .- .-- -.   .-.. --- --- -.-   - ---   - .... .   . .- ... -')"
      ],
      "metadata": {
        "colab": {
          "base_uri": "https://localhost:8080/",
          "height": 36
        },
        "id": "2HkF-PMV0Kvg",
        "outputId": "0e4fac15-8691-4418-a012-28da55f58c14"
      },
      "execution_count": 45,
      "outputs": [
        {
          "output_type": "execute_result",
          "data": {
            "text/plain": [
              "'AT DAWN LOOK TO THE EAST'"
            ],
            "application/vnd.google.colaboratory.intrinsic+json": {
              "type": "string"
            }
          },
          "metadata": {},
          "execution_count": 45
        }
      ]
    },
    {
      "cell_type": "code",
      "source": [],
      "metadata": {
        "id": "4zELDhQY1_lz"
      },
      "execution_count": null,
      "outputs": []
    }
  ]
}